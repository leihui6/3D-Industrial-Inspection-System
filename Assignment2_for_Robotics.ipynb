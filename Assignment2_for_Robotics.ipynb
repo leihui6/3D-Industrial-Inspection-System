{
  "nbformat": 4,
  "nbformat_minor": 0,
  "metadata": {
    "colab": {
      "provenance": [],
      "collapsed_sections": [
        "-65qMc9txWhF"
      ],
      "toc_visible": true,
      "authorship_tag": "ABX9TyMY2XVBGsM+7SV6y5h4Og+4",
      "include_colab_link": true
    },
    "kernelspec": {
      "name": "python3",
      "display_name": "Python 3"
    },
    "language_info": {
      "name": "python"
    }
  },
  "cells": [
    {
      "cell_type": "markdown",
      "metadata": {
        "id": "view-in-github",
        "colab_type": "text"
      },
      "source": [
        "<a href=\"https://colab.research.google.com/github/leihui6/3D-Industrial-Inspection-System/blob/master/Assignment2_for_Robotics.ipynb\" target=\"_parent\"><img src=\"https://colab.research.google.com/assets/colab-badge.svg\" alt=\"Open In Colab\"/></a>"
      ]
    },
    {
      "cell_type": "markdown",
      "source": [
        "# Assignment 2"
      ],
      "metadata": {
        "id": "VJnUI_HUxfC1"
      }
    },
    {
      "cell_type": "code",
      "execution_count": 6,
      "metadata": {
        "id": "H3GIwiWGkOvF"
      },
      "outputs": [],
      "source": [
        "import numpy as np\n",
        "from math import sqrt\n",
        "from numpy.linalg import inv, norm\n",
        "np.set_printoptions(precision=4)\n",
        "# Transformation from @F1 to @F2\n",
        "def calculate_R_transformation(F1,F2):\n",
        "    assert len(F1) == 3 and len(F2) == 3\n",
        "    T = np.zeros((3,3))\n",
        "    for F1_index,F1_item in enumerate(F1):\n",
        "        for F2_index,F2_item in enumerate(F2):\n",
        "            T[F2_index, F1_index] = np.dot(F1_item,F2_item.transpose())\n",
        "    return T\n",
        "\n",
        "# Combine rotation and translation transfomation\n",
        "def add_T_transformation(R_T,T_T):\n",
        "    assert R_T.shape == (3,3) and T_T.shape == (3,1), \\\n",
        "    f\"{R_T.shape} and {T_T.shape}\"\n",
        "    final_T = np.identity(4)\n",
        "    final_T[0:3,0:3] = R_T\n",
        "    final_T[0:3,3:4] = T_T\n",
        "    return final_T\n",
        "\n",
        "def bmatrix(a):\n",
        "    \"\"\"Returns a LaTeX bmatrix\n",
        "    \n",
        "    :a: numpy array\n",
        "    :returns: LaTeX bmatrix as a string\n",
        "    \"\"\"\n",
        "    if len(a.shape) > 2:\n",
        "        raise ValueError('bmatrix can at most display two dimensions')\n",
        "    lines = str(a).replace('[', '').replace(']', '').splitlines()\n",
        "    rv = [r'\\begin{bmatrix}']\n",
        "    rv += ['  ' + ' & '.join(l.split()) + r'\\\\' for l in lines]\n",
        "    rv +=  [r'\\end{bmatrix}']\n",
        "    return '\\n'.join(rv)\n",
        "\n",
        "#def show_frame():\n"
      ]
    },
    {
      "cell_type": "markdown",
      "source": [
        "## Answer for Problem1"
      ],
      "metadata": {
        "id": "-65qMc9txWhF"
      }
    },
    {
      "cell_type": "code",
      "source": [
        "A_X,A_Y,A_Z = np.array([1,0,0]), np.array([0,1,0]), np.array([0,0,1])\n",
        "B_X,B_Y,B_Z = np.array([-1,0,0]), np.array([0,-1,0]), np.array([0,0,1])\n",
        "C_X, C_Y = np.array([0, 0, -1]), \\\n",
        "    np.array([-np.cos(np.deg2rad(60)),np.sin(np.deg2rad(60)),0])\n",
        "C_Z = np.cross(C_X, C_Y)\n",
        "\n",
        "# Obtain each of coordinate system\n",
        "A = [A_X,A_Y,A_Z]\n",
        "B = [B_X,B_Y,B_Z]\n",
        "C = [C_X,C_Y,C_Z]\n",
        "\n",
        "# Calculate Rotation and Translation matrix\n",
        "RT_A2B,TT_A2B = calculate_R_transformation(A,B), np.array([3,0,0]).reshape(3,1)\n",
        "RT_B2C,TT_B2C = calculate_R_transformation(B,C), np.array([0,0,2]).reshape(3,1)\n",
        "\n",
        "final_T_A2B = add_T_transformation(RT_A2B,TT_A2B)\n",
        "final_T_B2C = add_T_transformation(RT_B2C,TT_B2C)\n",
        "print(f\"{final_T_A2B}\\n{final_T_B2C}\")\n",
        "print(f\"Here is the Latex version:\\n{bmatrix(final_T_A2B)}\\n{bmatrix(final_T_B2C)}\")"
      ],
      "metadata": {
        "colab": {
          "base_uri": "https://localhost:8080/"
        },
        "id": "NVjVvA7ikVHN",
        "outputId": "0bcf33dc-b1ee-4380-8a9c-abf60d746fdc"
      },
      "execution_count": 12,
      "outputs": [
        {
          "output_type": "stream",
          "name": "stdout",
          "text": [
            "[[-1.  0.  0.  3.]\n",
            " [ 0. -1.  0.  0.]\n",
            " [ 0.  0.  1.  0.]\n",
            " [ 0.  0.  0.  1.]]\n",
            "[[ 0.     0.    -1.     0.   ]\n",
            " [ 0.5   -0.866  0.     0.   ]\n",
            " [-0.866 -0.5    0.     2.   ]\n",
            " [ 0.     0.     0.     1.   ]]\n",
            "Here is the Latex version:\n",
            "\\begin{bmatrix}\n",
            "  -1. & 0. & 0. & 3.\\\\\n",
            "  0. & -1. & 0. & 0.\\\\\n",
            "  0. & 0. & 1. & 0.\\\\\n",
            "  0. & 0. & 0. & 1.\\\\\n",
            "\\end{bmatrix}\n",
            "\\begin{bmatrix}\n",
            "  0. & 0. & -1. & 0.\\\\\n",
            "  0.5 & -0.866 & 0. & 0.\\\\\n",
            "  -0.866 & -0.5 & 0. & 2.\\\\\n",
            "  0. & 0. & 0. & 1.\\\\\n",
            "\\end{bmatrix}\n"
          ]
        }
      ]
    },
    {
      "cell_type": "code",
      "source": [
        "final_T_A2C = np.dot(final_T_B2C, final_T_A2B)\n",
        "final_T_B2A = inv(final_T_A2B)\n",
        "final_T_C2A = inv(final_T_A2C)\n",
        "final_T_C2B = inv(final_T_B2C)"
      ],
      "metadata": {
        "id": "w4_gcPfPoCK0"
      },
      "execution_count": 13,
      "outputs": []
    },
    {
      "cell_type": "code",
      "source": [
        "print (f\"2.27: The transformation from B to A:\\n{final_T_B2A}\\nfor Latex format Version\\n{bmatrix(final_T_B2A)}\")\n",
        "print (f\"2.28: The transformation from C to A:\\n{final_T_C2A}\\nfor Latex format Version\\n{bmatrix(final_T_C2A)}\")\n",
        "print (f\"2.29: The transformation from C to B:\\n{final_T_C2B}\\nfor Latex format Version\\n{bmatrix(final_T_C2B)}\")\n",
        "print (f\"2.30: The transformation from A to C:\\n{final_T_A2C}\\nfor Latex format Version\\n{bmatrix(final_T_A2C)}\")"
      ],
      "metadata": {
        "colab": {
          "base_uri": "https://localhost:8080/"
        },
        "id": "g1SVFUvPoOqy",
        "outputId": "36e30e95-f8dd-49b0-b062-dd5711e0480d"
      },
      "execution_count": 14,
      "outputs": [
        {
          "output_type": "stream",
          "name": "stdout",
          "text": [
            "2.27: The transformation from B to A:\n",
            "[[-1. -0. -0.  3.]\n",
            " [-0. -1. -0. -0.]\n",
            " [ 0.  0.  1.  0.]\n",
            " [ 0.  0.  0.  1.]]\n",
            "for Latex format Version\n",
            "\\begin{bmatrix}\n",
            "  -1. & -0. & -0. & 3.\\\\\n",
            "  -0. & -1. & -0. & -0.\\\\\n",
            "  0. & 0. & 1. & 0.\\\\\n",
            "  0. & 0. & 0. & 1.\\\\\n",
            "\\end{bmatrix}\n",
            "2.28: The transformation from C to A:\n",
            "[[ 0.     -0.5     0.866   1.2679]\n",
            " [ 0.      0.866   0.5    -1.    ]\n",
            " [-1.     -0.     -0.     -0.    ]\n",
            " [ 0.      0.      0.      1.    ]]\n",
            "for Latex format Version\n",
            "\\begin{bmatrix}\n",
            "  0. & -0.5 & 0.866 & 1.2679\\\\\n",
            "  0. & 0.866 & 0.5 & -1.\\\\\n",
            "  -1. & -0. & -0. & -0.\\\\\n",
            "  0. & 0. & 0. & 1.\\\\\n",
            "\\end{bmatrix}\n",
            "2.29: The transformation from C to B:\n",
            "[[-0.      0.5    -0.866   1.7321]\n",
            " [-0.     -0.866  -0.5     1.    ]\n",
            " [-1.     -0.     -0.     -0.    ]\n",
            " [ 0.      0.      0.      1.    ]]\n",
            "for Latex format Version\n",
            "\\begin{bmatrix}\n",
            "  -0. & 0.5 & -0.866 & 1.7321\\\\\n",
            "  -0. & -0.866 & -0.5 & 1.\\\\\n",
            "  -1. & -0. & -0. & -0.\\\\\n",
            "  0. & 0. & 0. & 1.\\\\\n",
            "\\end{bmatrix}\n",
            "2.30: The transformation from A to C:\n",
            "[[ 0.      0.     -1.      0.    ]\n",
            " [-0.5     0.866   0.      1.5   ]\n",
            " [ 0.866   0.5     0.     -0.5981]\n",
            " [ 0.      0.      0.      1.    ]]\n",
            "for Latex format Version\n",
            "\\begin{bmatrix}\n",
            "  0. & 0. & -1. & 0.\\\\\n",
            "  -0.5 & 0.866 & 0. & 1.5\\\\\n",
            "  0.866 & 0.5 & 0. & -0.5981\\\\\n",
            "  0. & 0. & 0. & 1.\\\\\n",
            "\\end{bmatrix}\n"
          ]
        }
      ]
    },
    {
      "cell_type": "markdown",
      "source": [
        "## Answer for Problem2"
      ],
      "metadata": {
        "id": "612MQ5gnxi7z"
      }
    },
    {
      "cell_type": "code",
      "source": [
        "A_X,A_Y,A_Z = np.array([1,0,0]), np.array([0,1,0]), np.array([0,0,1])\n",
        "B_X,B_Y,B_Z = np.array([-1,0,0]), np.array([0,0,-1]), np.array([0,-1,0])\n",
        "angle = 36.9\n",
        "C_Y,C_Z = np.array([np.cos(np.deg2rad(angle)), -np.sin(np.deg2rad(angle)), 0]), np.array([0,0,-1])\n",
        "C_X = np.cross(C_Y,C_Z)\n",
        "\n",
        "A = [A_X,A_Y,A_Z]\n",
        "B = [B_X,B_Y,B_Z]\n",
        "C = [C_X,C_Y,C_Z]\n",
        "\n",
        "RT_A2B,TT_A2B = calculate_R_transformation(A,B), np.array([0,4,2]).reshape(3,1)\n",
        "RT_B2C,TT_B2C = calculate_R_transformation(B,C), np.array([3,0,0]).reshape(3,1)\n",
        "final_T_A2B = add_T_transformation(RT_A2B,TT_A2B)\n",
        "final_T_B2C = add_T_transformation(RT_B2C,TT_B2C)\n",
        "print(f\"{final_T_A2B}\\n{final_T_B2C}\")\n",
        "print(f\"Here is the Latex version:\\n{bmatrix(final_T_A2B)}\\n{bmatrix(final_T_B2C)}\")"
      ],
      "metadata": {
        "colab": {
          "base_uri": "https://localhost:8080/"
        },
        "id": "kNjhqD49cQ9R",
        "outputId": "157e4e74-f55e-4a0d-e880-a10f6cb62b96"
      },
      "execution_count": 9,
      "outputs": [
        {
          "output_type": "stream",
          "name": "stdout",
          "text": [
            "[[-1.  0.  0.  0.]\n",
            " [ 0.  0. -1.  4.]\n",
            " [ 0. -1.  0.  2.]\n",
            " [ 0.  0.  0.  1.]]\n",
            "[[-0.6004  0.     -0.7997  3.    ]\n",
            " [-0.7997  0.      0.6004  0.    ]\n",
            " [ 0.      1.      0.      0.    ]\n",
            " [ 0.      0.      0.      1.    ]]\n",
            "Here is the Latex version:\n",
            "\\begin{bmatrix}\n",
            "  -1. & 0. & 0. & 0.\\\\\n",
            "  0. & 0. & -1. & 4.\\\\\n",
            "  0. & -1. & 0. & 2.\\\\\n",
            "  0. & 0. & 0. & 1.\\\\\n",
            "\\end{bmatrix}\n",
            "\\begin{bmatrix}\n",
            "  -0.6004 & 0. & -0.7997 & 3.\\\\\n",
            "  -0.7997 & 0. & 0.6004 & 0.\\\\\n",
            "  0. & 1. & 0. & 0.\\\\\n",
            "  0. & 0. & 0. & 1.\\\\\n",
            "\\end{bmatrix}\n"
          ]
        }
      ]
    },
    {
      "cell_type": "code",
      "source": [
        "final_T_A2C = np.dot(final_T_B2C, final_T_A2B)\n",
        "final_T_B2A = inv(final_T_A2B)\n",
        "final_T_C2A = inv(final_T_A2C)\n",
        "final_T_C2B = inv(final_T_B2C)"
      ],
      "metadata": {
        "id": "MRNuEYPwj09f"
      },
      "execution_count": 4,
      "outputs": []
    },
    {
      "cell_type": "code",
      "source": [
        "print (f\"2.31: The transformation from B to A:\\n{final_T_B2A}\\nfor Latex format Version\\n{bmatrix(final_T_B2A)}\")\n",
        "print (f\"2.32: The transformation from C to A:\\n{final_T_C2A}\\nfor Latex format Version\\n{bmatrix(final_T_C2A)}\")\n",
        "print (f\"2.33: The transformation from C to B:\\n{final_T_C2B}\\nfor Latex format Version\\n{bmatrix(final_T_C2B)}\")\n",
        "print (f\"2.34: The transformation from A to C:\\n{final_T_A2C}\\nfor Latex format Version\\n{bmatrix(final_T_A2C)}\")"
      ],
      "metadata": {
        "colab": {
          "base_uri": "https://localhost:8080/"
        },
        "id": "5HvBdGJ3ktGl",
        "outputId": "5206204e-1180-49b4-8ca0-7a9a01a07cbf"
      },
      "execution_count": 8,
      "outputs": [
        {
          "output_type": "stream",
          "name": "stdout",
          "text": [
            "2.31: The transformation from B to A:\n",
            "[[-1. -0. -0. -0.]\n",
            " [-0. -0. -1.  2.]\n",
            " [-0. -1. -0.  4.]\n",
            " [ 0.  0.  0.  1.]]\n",
            "for Latex format Version\n",
            "\\begin{bmatrix}\n",
            "  -1. & -0. & -0. & -0.\\\\\n",
            "  -0. & -0. & -1. & 2.\\\\\n",
            "  -0. & -1. & -0. & 4.\\\\\n",
            "  0. & 0. & 0. & 1.\\\\\n",
            "\\end{bmatrix}\n",
            "2.32: The transformation from C to A:\n",
            "[[ 0.6004  0.7997  0.     -1.8013]\n",
            " [ 0.7997 -0.6004  0.     -0.3991]\n",
            " [-0.     -0.     -1.      4.    ]\n",
            " [ 0.      0.      0.      1.    ]]\n",
            "for Latex format Version\n",
            "\\begin{bmatrix}\n",
            "  0.6004 & 0.7997 & 0. & -1.8013\\\\\n",
            "  0.7997 & -0.6004 & 0. & -0.3991\\\\\n",
            "  -0. & -0. & -1. & 4.\\\\\n",
            "  0. & 0. & 0. & 1.\\\\\n",
            "\\end{bmatrix}\n",
            "2.33: The transformation from C to B:\n",
            "[[-0.6004 -0.7997 -0.      1.8013]\n",
            " [ 0.      0.      1.      0.    ]\n",
            " [-0.7997  0.6004 -0.      2.3991]\n",
            " [ 0.      0.      0.      1.    ]]\n",
            "for Latex format Version\n",
            "\\begin{bmatrix}\n",
            "  -0.6004 & -0.7997 & -0. & 1.8013\\\\\n",
            "  0. & 0. & 1. & 0.\\\\\n",
            "  -0.7997 & 0.6004 & -0. & 2.3991\\\\\n",
            "  0. & 0. & 0. & 1.\\\\\n",
            "\\end{bmatrix}\n",
            "2.34: The transformation from A to C:\n",
            "[[ 0.6004  0.7997  0.      1.4006]\n",
            " [ 0.7997 -0.6004  0.      1.2008]\n",
            " [ 0.      0.     -1.      4.    ]\n",
            " [ 0.      0.      0.      1.    ]]\n",
            "for Latex format Version\n",
            "\\begin{bmatrix}\n",
            "  0.6004 & 0.7997 & 0. & 1.4006\\\\\n",
            "  0.7997 & -0.6004 & 0. & 1.2008\\\\\n",
            "  0. & 0. & -1. & 4.\\\\\n",
            "  0. & 0. & 0. & 1.\\\\\n",
            "\\end{bmatrix}\n"
          ]
        }
      ]
    }
  ]
}